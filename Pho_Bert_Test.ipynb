{
 "cells": [
  {
   "cell_type": "code",
   "execution_count": null,
   "metadata": {},
   "outputs": [],
   "source": [
    "import torch\n",
    "from transformers import AutoTokenizer, AutoModelForSequenceClassification\n",
    "\n",
    "# Initialise the model\n",
    "model_id = 'vinai/phobert-base-v2'\n",
    "tokenizer = AutoTokenizer.from_pretrained(model_id)\n",
    "model = AutoModelForSequenceClassification.from_pretrained('/home4/bachpt/domain_classification/Models/saved_checkpoints/checkpoint-379600')\n",
    "\n",
    "model.eval()\n",
    "model.to('cuda')"
   ]
  },
  {
   "cell_type": "code",
   "execution_count": null,
   "metadata": {},
   "outputs": [],
   "source": [
    "# test individual sentence\n",
    "\n",
    "import torch.nn.functional as F\n",
    "\n",
    "inputs = tokenizer('hôm nay trời đẹp quá nên mình tính ra trường để đi dạo. Không biết có nhiêu trai đẹp không nữa. Ước gì trường mình có nhiều bạn đẹp trai để mình có thể ngắm hàng ngày. Trai trường mình vừa xấu vừa đụt, chả bù cho anh Phan Tất Bách đẹp trai ngời ngời, thông minh.', return_tensors='pt', truncation=True, max_length=256).to('cuda')\n",
    "\n",
    "\n",
    "with torch.no_grad():\n",
    "    logits = model(**inputs).logits\n",
    "\n",
    "predicted_class_id = logits.argmax().item()\n",
    "softmax_values = F.softmax(logits, dim=1)\n",
    "print(softmax_values)\n",
    "\n",
    "model.config.id2label = {0: 'Chat', 1: 'Uni', 2: 'Others'}\n",
    "model.config.id2label[predicted_class_id]"
   ]
  },
  {
   "cell_type": "code",
   "execution_count": null,
   "metadata": {},
   "outputs": [],
   "source": [
    "import pandas as pd\n",
    "df = pd.read_csv('/home4/bachpt/domain_classification/Data/Test/All_test_segmented.csv')\n",
    "df['pred_label'] = ''\n",
    "df['softmax'] = ''"
   ]
  },
  {
   "cell_type": "code",
   "execution_count": null,
   "metadata": {},
   "outputs": [],
   "source": [
    "import torch.nn.functional as F\n",
    "\n",
    "df_text = df['text']\n",
    "predictions = []\n",
    "\n",
    "for datum in df_text:\n",
    "    inputs = tokenizer(datum, return_tensors='pt', truncation=True, max_length=256).to('cuda')\n",
    "    \n",
    "\n",
    "    with torch.no_grad():\n",
    "        logits = model(**inputs).logits\n",
    "\n",
    "        predicted_class_id = logits.argmax().item()\n",
    "        \n",
    "        model.config.id2label = {0: 'Chat', 1: 'Uni', 2: 'Others'}\n",
    "        model.config.id2label[predicted_class_id]\n",
    "\n",
    "        predictions.append(predicted_class_id)\n",
    "    \n",
    "df['pred_label'] = predictions\n",
    "df.to_csv('/home4/bachpt/domain_classification/Pho_Bert_pred.csv', index=False)"
   ]
  },
  {
   "cell_type": "code",
   "execution_count": 3,
   "metadata": {},
   "outputs": [
    {
     "name": "stdout",
     "output_type": "stream",
     "text": [
      "[2 1 0]\n",
      "['Others' 'Uni' 'Chat']\n"
     ]
    }
   ],
   "source": [
    "import pandas as pd\n",
    "pred_df = pd.read_csv('/home4/bachpt/domain_classification/Pho_Bert_pred.csv')\n",
    "print(pred_df['pred_label'].unique())\n",
    "print(pred_df['label'].unique())"
   ]
  }
 ],
 "metadata": {
  "kernelspec": {
   "display_name": "llm",
   "language": "python",
   "name": "python3"
  },
  "language_info": {
   "codemirror_mode": {
    "name": "ipython",
    "version": 3
   },
   "file_extension": ".py",
   "mimetype": "text/x-python",
   "name": "python",
   "nbconvert_exporter": "python",
   "pygments_lexer": "ipython3",
   "version": "3.10.12"
  }
 },
 "nbformat": 4,
 "nbformat_minor": 2
}
